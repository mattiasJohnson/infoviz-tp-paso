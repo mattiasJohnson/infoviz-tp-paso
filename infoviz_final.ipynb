{
 "cells": [
  {
   "cell_type": "markdown",
   "metadata": {},
   "source": [
    "# Examine data and test"
   ]
  },
  {
   "cell_type": "code",
   "execution_count": 31,
   "metadata": {},
   "outputs": [],
   "source": [
    "import pandas as pd\n",
    "\n",
    "df_full = pd.read_csv(\"data/ciudad_autonoma_de_buenos_aires.csv\",sep=\";\")\n"
   ]
  },
  {
   "cell_type": "code",
   "execution_count": 42,
   "metadata": {},
   "outputs": [
    {
     "data": {
      "text/plain": [
       "array(['Comuna 1', 'Comuna 4', 'Comuna 3', 'Comuna 7', 'Comuna 5',\n",
       "       'Comuna 2', 'Comuna 10', 'Comuna 8', 'Comuna 13', 'Comuna 6',\n",
       "       'Comuna 11', 'Comuna 15', 'Comuna 12', 'Comuna 9', 'Comuna 14'],\n",
       "      dtype=object)"
      ]
     },
     "execution_count": 42,
     "metadata": {},
     "output_type": "execute_result"
    }
   ],
   "source": [
    "\n",
    "df[\"Agrupacion\"].unique()\n",
    "# df[\"Cargo\"].unique()\n",
    "df_full[\"Seccion\"].unique()\n",
    "# df[\"tipoVoto\"].unique()\n"
   ]
  },
  {
   "cell_type": "markdown",
   "metadata": {},
   "source": []
  },
  {
   "cell_type": "code",
   "execution_count": 30,
   "metadata": {},
   "outputs": [
    {
     "name": "stdout",
     "output_type": "stream",
     "text": [
      "FEDERAL\n",
      "16810\n",
      "\n",
      "CONSERVADOR POPULAR\n",
      "7054\n",
      "\n",
      "MOVIMIENTO AL SOCIALISMO\n",
      "25627\n",
      "\n",
      "CORRIENTE DE PENSAMIENTO BONAERENSE\n",
      "4278\n",
      "\n",
      "VERDE\n",
      "16452\n",
      "\n",
      "POPULAR\n",
      "12517\n",
      "\n",
      "TODOS POR BUENOS AIRES\n",
      "17547\n",
      "\n",
      "FRENTE PATRIOTA\n",
      "19274\n",
      "\n",
      "REPUBLICANO FEDERAL\n",
      "28971\n",
      "\n",
      "MORAL Y PROGRESO\n",
      "960\n",
      "\n",
      "VOCACION SOCIAL\n",
      "34742\n",
      "\n",
      "UNIDAD SOCIAL\n",
      "2970\n",
      "\n",
      "CELESTE PROVIDA\n",
      "16605\n",
      "\n",
      "LABORISTA\n",
      "875\n",
      "\n",
      "POLITICA OBRERA\n",
      "11577\n",
      "\n",
      "JUSTICIA Y DIGNIDAD PATRIOTICA\n",
      "3117\n",
      "\n",
      "ESPERANZA DEL PUEBLO\n",
      "5143\n",
      "\n",
      "+ VALORES\n",
      "44264\n",
      "\n",
      "PROYECTO JUSTO, SOCIAL Y HUMANISTA\n",
      "8662\n",
      "\n",
      "AVANZA LIBERTAD\n",
      "156645\n",
      "\n",
      "FRENTE DE IZQUIERDA Y DE TRABAJADORES - UNIDAD\n",
      "162868\n",
      "\n",
      "FRENTE UNION POR EL FUTURO\n",
      "32753\n",
      "\n",
      "JUNTOS\n",
      "1098696\n",
      "\n",
      "FRENTE DE TODOS\n",
      "964773\n",
      "\n",
      "FRENTE VAMOS CON VOS\n",
      "97899\n",
      "\n"
     ]
    }
   ],
   "source": [
    "for agrupacion in df['Agrupacion'].unique():\n",
    "    print(agrupacion)\n",
    "\n",
    "    df_agrupacion  = df.loc[df[\"Agrupacion\"] == agrupacion]\n",
    "    # print(df_agrupacion[\"tipoVoto\"].unique())\n",
    "    print(df_agrupacion[\"votos\"].sum())\n",
    "    print()"
   ]
  },
  {
   "cell_type": "markdown",
   "metadata": {},
   "source": [
    "# Import and clean data"
   ]
  },
  {
   "cell_type": "code",
   "execution_count": 1,
   "metadata": {},
   "outputs": [],
   "source": [
    "import pandas as pd\n",
    "\n",
    "\n",
    "# df_full = pd.read_csv(\"data/Buenos Aires_ Primera.csv\",sep=\";\")\n",
    "df_full = pd.read_csv(\"data/ciudad_autonoma_de_buenos_aires.csv\",sep=\";\")"
   ]
  },
  {
   "cell_type": "code",
   "execution_count": 2,
   "metadata": {},
   "outputs": [],
   "source": [
    "df = df_full.loc[df_full[\"Cargo\"] == \"DIPUTADOS NACIONALES\"] # Filter for only diputados\n",
    "df = df[~df[\"Agrupacion\"].isnull()] # Remove nan"
   ]
  },
  {
   "cell_type": "code",
   "execution_count": 3,
   "metadata": {},
   "outputs": [],
   "source": [
    "df[\"tipoVoto\"].unique()\n",
    "df[\"Agrupacion\"].unique()\n",
    "\n",
    "parties_left = [\"POLÍTICA OBRERA\", \"SOCIALISTA AUTÉNTICO\", \"FRENTE DE IZQUIERDA Y DE TRABAJADORES - UNIDAD\", \"MOVIMIENTO AL SOCIALISMO\"]\n",
    "\n",
    "# Socialista autentico\n",
    "# Movimiento al socialismo\n",
    "# Frente de izquierda \n",
    "# Politica obrera"
   ]
  },
  {
   "cell_type": "markdown",
   "metadata": {},
   "source": [
    "# Heatmap"
   ]
  },
  {
   "cell_type": "code",
   "execution_count": 47,
   "metadata": {},
   "outputs": [
    {
     "name": "stdout",
     "output_type": "stream",
     "text": [
      "Comuna 1: 0.07424522775665046\n",
      "Comuna 4: 0.08575243600469877\n",
      "Comuna 3: 0.08700430714391802\n",
      "Comuna 7: 0.07990550072885076\n",
      "Comuna 5: 0.09462022064661978\n",
      "Comuna 2: 0.04981461806985972\n",
      "Comuna 10: 0.07996922095227371\n",
      "Comuna 8: 0.07729854738838976\n",
      "Comuna 13: 0.06546221178479932\n",
      "Comuna 6: 0.08005288673424416\n",
      "Comuna 11: 0.07476605173239402\n",
      "Comuna 15: 0.09562928414953006\n",
      "Comuna 12: 0.07812604325086242\n",
      "Comuna 9: 0.0751456329563247\n",
      "Comuna 14: 0.061687583637744584\n"
     ]
    }
   ],
   "source": [
    "comunas = df[\"Seccion\"].unique()\n",
    "\n",
    "result_percentage= {}\n",
    "\n",
    "for comuna in comunas:\n",
    "    df_comuna = df.loc[df[\"Seccion\"] == comuna]\n",
    "    df_left = df_comuna.loc[ df_comuna[\"Agrupacion\"].isin(parties_left) ]\n",
    "    df_rest = df_comuna.loc[ ~df_comuna[\"Agrupacion\"].isin(parties_left) ]\n",
    "\n",
    "    votes_total = df_comuna[\"votos\"].sum()\n",
    "    votes_left = df_left[\"votos\"].sum()\n",
    "    votes_rest = df_rest[\"votos\"].sum()\n",
    "    \n",
    "    result_percentage[comuna] = votes_left/votes_total\n",
    "\n",
    "\n",
    "for comuna, percent in result_percentage.items():\n",
    "    print(f\"{comuna}: {percent}\")"
   ]
  },
  {
   "cell_type": "code",
   "execution_count": 42,
   "metadata": {},
   "outputs": [],
   "source": [
    "# Find min and max\n",
    "percent_max = 0\n",
    "percent_min = 1\n",
    "for key, percent in result_percentage.items():\n",
    "    if percent > percent_max:\n",
    "        percent_max = percent\n",
    "\n",
    "    if percent < percent_min:\n",
    "        percent_min = percent\n",
    "    \n",
    "\n",
    "# Map linearly to span[255*percentage_min,255], highest value goes to 0 (=most red)\n",
    "val_max = 255\n",
    "val_min = 255*percent_min\n",
    "\n",
    "k = (val_max - val_min) / (percent_max - percent_min)\n",
    "m = val_max - k * percent_max\n",
    "\n",
    "result_255 = {}\n",
    "for key, percent in result_percentage.items():\n",
    "    value = k*percent + m\n",
    "    result_255[key] = int(255-value) \n",
    "\n",
    "\n",
    "result_hex = {}\n",
    "for key, integer in result_255.items():\n",
    "    \n",
    "    key_integer = key.split()[1]\n",
    "    \n",
    "    result_hex[key_integer] = f\"ff{integer:02x}{integer:02x}\"\n",
    "    "
   ]
  },
  {
   "cell_type": "code",
   "execution_count": 48,
   "metadata": {},
   "outputs": [
    {
     "name": "stdout",
     "output_type": "stream",
     "text": [
      "1\n",
      "ff7171\n",
      "\n",
      "4\n",
      "ff3434\n",
      "\n",
      "3\n",
      "ff2d2d\n",
      "\n",
      "7\n",
      "ff5353\n",
      "\n",
      "5\n",
      "ff0505\n",
      "\n",
      "2\n",
      "fff2f2\n",
      "\n",
      "10\n",
      "ff5252\n",
      "\n",
      "8\n",
      "ff6060\n",
      "\n",
      "13\n",
      "ff9f9f\n",
      "\n",
      "6\n",
      "ff5252\n",
      "\n",
      "11\n",
      "ff6e6e\n",
      "\n",
      "15\n",
      "ff0000\n",
      "\n",
      "12\n",
      "ff5c5c\n",
      "\n",
      "9\n",
      "ff6c6c\n",
      "\n",
      "14\n",
      "ffb3b3\n",
      "\n"
     ]
    }
   ],
   "source": [
    "for key, val in result_hex.items():\n",
    "    print(key)\n",
    "    print(val)\n",
    "    print()"
   ]
  },
  {
   "cell_type": "code",
   "execution_count": 43,
   "metadata": {},
   "outputs": [],
   "source": [
    "# Create new svg from template file\n",
    "import re\n",
    "with open(\"images/comunas_template.svg\", 'r') as f_template:\n",
    "\n",
    "    text = f_template.read()\n",
    "    \n",
    "    for key, hex_val in result_hex.items():\n",
    "        template_val = f\"\\\\{{{key}\\\\}}\"\n",
    "        text = re.sub(template_val, hex_val, text)\n",
    "\n",
    "    with open('images/comunas_heatmap.svg', 'w') as f_output:\n",
    "        f_output.write(text)\n",
    "    # f.seek(0) # Go to start\n",
    "    # f.truncate() # Fix new file size(?)"
   ]
  }
 ],
 "metadata": {
  "interpreter": {
   "hash": "23670ff975fd26c11263144ffa54dd519da073a3c08b50a2a40c2e9a67cefb3e"
  },
  "kernelspec": {
   "display_name": "Python 3.6.7 64-bit ('itba-infoviz': conda)",
   "name": "python3"
  },
  "language_info": {
   "codemirror_mode": {
    "name": "ipython",
    "version": 3
   },
   "file_extension": ".py",
   "mimetype": "text/x-python",
   "name": "python",
   "nbconvert_exporter": "python",
   "pygments_lexer": "ipython3",
   "version": "3.6.7"
  },
  "orig_nbformat": 4
 },
 "nbformat": 4,
 "nbformat_minor": 2
}
